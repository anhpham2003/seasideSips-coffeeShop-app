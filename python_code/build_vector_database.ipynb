{
 "cells": [
  {
   "cell_type": "code",
   "execution_count": 30,
   "metadata": {},
   "outputs": [
    {
     "data": {
      "text/plain": [
       "True"
      ]
     },
     "execution_count": 30,
     "metadata": {},
     "output_type": "execute_result"
    }
   ],
   "source": [
    "from pinecone import Pinecone, ServerlessSpec\n",
    "from openai import OpenAI\n",
    "import pandas as pd\n",
    "import time\n",
    "import os\n",
    "import dotenv\n",
    "dotenv.load_dotenv()\n"
   ]
  },
  {
   "cell_type": "code",
   "execution_count": 11,
   "metadata": {},
   "outputs": [],
   "source": [
    "token = os.getenv('RUNPOD_TOKEN')\n",
    "open_ai_base_url = os.getenv('RUNPOD_EMBEDDING_URL')\n",
    "model_name = os.getenv('MODEL_NAME')\n",
    "pinecone_api_key = os.getenv('PINECONE_API_KEY')\n",
    "index_name = os.getenv('PINECONE_INDEX_NAME')"
   ]
  },
  {
   "cell_type": "code",
   "execution_count": 12,
   "metadata": {},
   "outputs": [],
   "source": [
    "pc = Pinecone(api_key=pinecone_api_key)\n",
    "client = OpenAI(\n",
    "    api_key=token,\n",
    "    base_url=open_ai_base_url\n",
    ")"
   ]
  },
  {
   "cell_type": "markdown",
   "metadata": {},
   "source": [
    "# Try Out Embeddings"
   ]
  },
  {
   "cell_type": "code",
   "execution_count": 13,
   "metadata": {},
   "outputs": [
    {
     "name": "stdout",
     "output_type": "stream",
     "text": [
      "[0.015176702290773392, -0.02265065535902977, 0.00859504658728838, -0.0742514431476593, 0.003908572718501091, 0.0027112148236483335, -0.031238075345754623, 0.044630181044340134, 0.04405056685209274, -0.007908663712441921, -0.02519790083169937, -0.03337348997592926, 0.014375921338796616, 0.04639952629804611, 0.008610299788415432, -0.016137639060616493, 0.007561658509075642, -0.019020449370145798, -0.11458028852939606, -0.018105272203683853, 0.1262945681810379, 0.029728032648563385, 0.025274166837334633, -0.0342886708676815, -0.041091494262218475, 0.006669359747320414, 0.010303379036486149, 0.022437114268541336, 0.00444242637604475, -0.12727075815200806, -0.01610713265836239, -0.020255940034985542, 0.047375716269016266, 0.011561748571693897, 0.06815025955438614, 0.00739006232470274, -0.017998501658439636, 0.04084744676947594, -0.01028049923479557, 0.02373361587524414, 0.010509294457733631, -0.028538301587104797, 0.008137458004057407, -0.015138569287955761, 0.030948270112276077, -0.065953828394413, -0.022254079580307007, 0.053964998573064804, 0.0026482963003218174, 0.02246762067079544, -0.09163982421159744, -0.04517928883433342, -0.004286083858460188, -0.0056474111042916775, -0.0053461650386452675, 0.09847315400838852, 0.06049326807260513, 0.007454887498170137, 0.013910706155002117, 0.0027245611418038607, 0.047680772840976715, 0.028645072132349014, -0.15533621609210968, 0.06888239830732346, 0.03020087443292141, -0.01795274205505848, 0.020896565169095993, 0.02124738320708275, 0.014009850099682808, 0.0019542863592505455, 0.002663549268618226, 0.0038685337640345097, 0.04096946865320206, 0.06577078998088837, -0.0061393193900585175, -0.016396939754486084, 0.00828236062079668, -0.04899252951145172, -0.021171117201447487, -0.030826246365904808, -0.0406033992767334, 0.059303537011146545, 0.01807476580142975, -0.044203098863363266, 0.0007192727061919868, -0.028004446998238564, -0.04048137366771698, -0.011294822208583355, -0.02499961294233799, 0.009639875032007694, -0.01732737012207508, -0.027013003826141357, -0.0153826167806983, -0.0055520799942314625, -0.04142705723643303, 0.007142201531678438, 0.007058310322463512, 0.009807657450437546, 0.0006024921895004809, 0.3438628911972046, -0.09536154568195343, -0.0020267379004508257, 0.028156977146863937, -0.091334767639637, 0.059669606387615204, 0.02487758919596672, -0.016351180151104927, -0.029087407514452934, -0.008297613821923733, 0.015817327424883842, 0.012873504310846329, -0.06424549967050552, 0.014475065283477306, -0.013857319951057434, 0.0010286219185218215, -0.019432280212640762, 0.05009074509143829, -0.0028294252697378397, 0.09304309636354446, -0.029453478753566742, -0.008129831403493881, 0.03071947582066059, -0.04408107325434685, -0.004064915701746941, 0.05286678299307823, -0.06455055624246597, 0.05817481502890587, 0.07760709524154663, 0.011485484428703785, 0.0697975754737854, -0.005380484275519848, 0.059669606387615204, -0.02638763189315796, -0.008686564862728119, 0.027394328266382217, -0.01424627099186182, -0.01841033063828945, -0.013933585025370121, 0.03532586991786957, -0.056832555681467056, 0.008289987221360207, -0.0768139436841011, -0.022482873871922493, -0.11281093955039978, 0.000382039143005386, 0.030460175126791, -0.07333626598119736, 0.024664048105478287, -0.01961531490087509, -0.024114940315485, -0.038864560425281525, 0.07858328521251678, 0.004907642025500536, -0.01644269749522209, 0.007885783910751343, 0.054971691220998764, -0.012858251109719276, 0.068577341735363, 0.007714188192039728, 0.008793335407972336, -0.0018713483586907387, -0.012530311942100525, -0.013376851566135883, 0.006718931719660759, -0.01764768175780773, -0.1282469481229782, 0.010036451742053032, 0.01960006169974804, -0.007187960669398308, 0.0008927751914598048, 0.0032851076684892178, 0.01644269749522209, -0.03965771570801735, 0.02875184267759323, 0.10957731306552887, 0.007496833335608244, -0.0040458496659994125, 0.044508159160614014, -0.04743672534823418, 0.02499961294233799, 0.06003567948937416, -0.0507618747651577, -0.04182363674044609, 0.019111966714262962, 0.028156977146863937, -0.025365684181451797, -0.02075928822159767, -0.030460175126791, 0.06232362240552902, 0.06699103116989136, -0.023260774090886116, 0.0107838474214077, -0.03190920501947403, -0.0342886708676815, -0.08413536846637726, 0.0033403998240828514, 0.03383108228445053, -0.08102376013994217, 0.013392104767262936, -0.0215676948428154, 0.14642848074436188, 0.053080324083566666, 0.003895226400345564, 0.028797602280974388, 0.0004196949303150177, 0.004236511420458555, 0.040633901953697205, 0.006383366417139769, 0.04475220665335655, 0.013392104767262936, -0.02399291656911373, -0.015047051943838596, 0.07309221476316452, -0.006535896100103855, 0.02194901928305626, -0.04289134219288826, -0.010120343416929245, 0.07467852532863617, 0.023947158828377724, 0.04719267785549164, -0.03977973759174347, 0.010898244567215443, -0.022116802632808685, -0.26235103607177734, 0.01821204274892807, 0.008343372493982315, -0.003334679873660207, -0.03483777493238449, 0.023108243942260742, 0.038040898740291595, -0.051677051931619644, 0.10188981890678406, -0.009037382900714874, 0.08718595653772354, -0.05973061919212341, -0.008350999094545841, -0.03627155348658562, 0.017556164413690567, 0.02321501635015011, -0.014154753647744656, 0.016137639060616493, -0.010074584744870663, -0.02283369190990925, 0.028599312528967857, 0.02297096885740757, 0.043501462787389755, -0.047497738152742386, 0.044447146356105804, -0.0596390999853611, 0.14667253196239471, 0.0837082788348198, -0.020332204177975655, 0.024221710860729218, 0.036393579095602036, -0.02805020660161972, -0.009273803792893887, -0.11976629495620728, -0.025624984875321388, 0.0736413225531578, -0.034563224762678146, -0.06711305677890778, -0.09664279967546463, -0.02234559692442417, -0.012400662526488304, 0.013781055808067322, -0.04099997505545616, -0.004038223065435886, -0.02417595311999321, -0.074922576546669, -0.05271425470709801, 0.009876295924186707, -0.052195653319358826, -0.012393035925924778, -0.011599881574511528, 0.02240660786628723, 0.057198625057935715, 0.05988314747810364, 0.019142473116517067, -0.04606395959854126, 0.0015024172607809305, -0.0005872392212040722, -0.011554121971130371, 0.032458312809467316, -0.014734365977346897, -0.022223573178052902, 0.015908844769001007, -0.03666813299059868, 0.011668520048260689, 0.03508182242512703, -0.061011865735054016, -0.024725059047341347, 0.04975517839193344, -0.017479900270700455, -0.01802900619804859, -0.035630930215120316, 0.021079599857330322, -0.016595227643847466, 0.0361800380051136, 0.01417763251811266, -0.0045987693592906, -0.023337040096521378, -0.03971872478723526, -0.02817223034799099, -0.00553682679310441, 0.011485484428703785, 0.0583883561193943, 0.014261524192988873, 0.03267185389995575, 0.05411752685904503, 0.0647335946559906, 0.007622670382261276, 0.03547840192914009, -0.016076626256108284, -0.012919262982904911, 0.041213516145944595, -0.005338538438081741, -0.06973656266927719, 0.011294822208583355, 0.01612238585948944, -0.29529744386672974, 0.02779090590775013, -0.0030906323809176683, 0.02130839414894581, 0.003988650627434254, 0.020957576110959053, 0.04099997505545616, -0.00026621195138432086, -0.057381659746170044, 0.022360850125551224, -0.07754608243703842, 0.0203016996383667, 0.01624440960586071, -0.06693001836538315, 0.0007650316110812128, 0.020210180431604385, -0.002362303202971816, -0.011088906787335873, 0.01714433543384075, -0.019630568102002144, 0.0020991896744817495, 0.022238826379179955, 0.229770690202713, -0.023047233000397682, 0.05677154287695885, 0.03913911432027817, -0.009182286448776722, 0.004511064849793911, 0.054849669337272644, 0.019249243661761284, -0.09822911024093628, -0.00012774359493050724, 0.03160414844751358, -0.015596158802509308, 0.03538688272237778, 0.011012641713023186, -0.06827227771282196, -0.02893487736582756, 0.023825135082006454, -0.053019311279058456, -0.025045372545719147, 0.022376103326678276, -0.04588092491030693, 0.07034668326377869, 0.03459372743964195, -0.07711900025606155, -0.013521755114197731, -0.04905354231595993, -0.0040420363657176495, 0.037217240780591965, -0.02817223034799099, -0.07968150079250336, 0.005620718467980623, 0.03212274983525276, -0.030429668724536896, 0.014917401596903801, 0.014696233905851841, -0.008907732553780079, 0.016259662806987762, -0.06339132785797119, 0.021216876804828644, -0.006181264761835337, 0.049450118094682693, 0.022742172703146935, 0.026113079860806465]\n"
     ]
    }
   ],
   "source": [
    "output = client.embeddings.create(input=['hello world'], model=model_name)\n",
    "embedding = output.data[0].embedding\n",
    "print(embedding)"
   ]
  },
  {
   "cell_type": "code",
   "execution_count": 14,
   "metadata": {},
   "outputs": [
    {
     "data": {
      "text/plain": [
       "384"
      ]
     },
     "execution_count": 14,
     "metadata": {},
     "output_type": "execute_result"
    }
   ],
   "source": [
    "len(embedding)"
   ]
  },
  {
   "cell_type": "markdown",
   "metadata": {},
   "source": [
    "# Data Wrangling"
   ]
  },
  {
   "cell_type": "code",
   "execution_count": 15,
   "metadata": {},
   "outputs": [
    {
     "data": {
      "text/html": [
       "<div>\n",
       "<style scoped>\n",
       "    .dataframe tbody tr th:only-of-type {\n",
       "        vertical-align: middle;\n",
       "    }\n",
       "\n",
       "    .dataframe tbody tr th {\n",
       "        vertical-align: top;\n",
       "    }\n",
       "\n",
       "    .dataframe thead th {\n",
       "        text-align: right;\n",
       "    }\n",
       "</style>\n",
       "<table border=\"1\" class=\"dataframe\">\n",
       "  <thead>\n",
       "    <tr style=\"text-align: right;\">\n",
       "      <th></th>\n",
       "      <th>name</th>\n",
       "      <th>category</th>\n",
       "      <th>description</th>\n",
       "      <th>ingredients</th>\n",
       "      <th>price</th>\n",
       "      <th>rating</th>\n",
       "      <th>image_path</th>\n",
       "    </tr>\n",
       "  </thead>\n",
       "  <tbody>\n",
       "    <tr>\n",
       "      <th>0</th>\n",
       "      <td>Cappuccino</td>\n",
       "      <td>Coffee</td>\n",
       "      <td>A rich and creamy cappuccino made with freshly...</td>\n",
       "      <td>[Espresso, Steamed Milk, Milk Foam]</td>\n",
       "      <td>4.50</td>\n",
       "      <td>4.7</td>\n",
       "      <td>cappuccino.jpg</td>\n",
       "    </tr>\n",
       "    <tr>\n",
       "      <th>1</th>\n",
       "      <td>Jumbo Savory Scone</td>\n",
       "      <td>Bakery</td>\n",
       "      <td>Deliciously flaky and buttery, this jumbo savo...</td>\n",
       "      <td>[Flour, Butter, Cheese, Herbs, Baking Powder, ...</td>\n",
       "      <td>3.25</td>\n",
       "      <td>4.3</td>\n",
       "      <td>savory_scone.jpg</td>\n",
       "    </tr>\n",
       "    <tr>\n",
       "      <th>2</th>\n",
       "      <td>Latte</td>\n",
       "      <td>Coffee</td>\n",
       "      <td>Smooth and creamy, our latte combines rich esp...</td>\n",
       "      <td>[Espresso, Steamed Milk, Milk Foam]</td>\n",
       "      <td>4.75</td>\n",
       "      <td>4.8</td>\n",
       "      <td>latte.jpg</td>\n",
       "    </tr>\n",
       "    <tr>\n",
       "      <th>3</th>\n",
       "      <td>Chocolate Chip Biscotti</td>\n",
       "      <td>Bakery</td>\n",
       "      <td>Crunchy and delightful, this chocolate chip bi...</td>\n",
       "      <td>[Flour, Sugar, Chocolate Chips, Eggs, Almonds,...</td>\n",
       "      <td>2.50</td>\n",
       "      <td>4.6</td>\n",
       "      <td>chocolate_biscotti.jpg</td>\n",
       "    </tr>\n",
       "    <tr>\n",
       "      <th>4</th>\n",
       "      <td>Espresso shot</td>\n",
       "      <td>Coffee</td>\n",
       "      <td>A bold shot of rich espresso, our espresso is ...</td>\n",
       "      <td>[Espresso]</td>\n",
       "      <td>2.00</td>\n",
       "      <td>4.9</td>\n",
       "      <td>espresso_shot.jpg</td>\n",
       "    </tr>\n",
       "  </tbody>\n",
       "</table>\n",
       "</div>"
      ],
      "text/plain": [
       "                      name category  \\\n",
       "0               Cappuccino   Coffee   \n",
       "1       Jumbo Savory Scone   Bakery   \n",
       "2                    Latte   Coffee   \n",
       "3  Chocolate Chip Biscotti   Bakery   \n",
       "4            Espresso shot   Coffee   \n",
       "\n",
       "                                         description  \\\n",
       "0  A rich and creamy cappuccino made with freshly...   \n",
       "1  Deliciously flaky and buttery, this jumbo savo...   \n",
       "2  Smooth and creamy, our latte combines rich esp...   \n",
       "3  Crunchy and delightful, this chocolate chip bi...   \n",
       "4  A bold shot of rich espresso, our espresso is ...   \n",
       "\n",
       "                                         ingredients  price  rating  \\\n",
       "0                [Espresso, Steamed Milk, Milk Foam]   4.50     4.7   \n",
       "1  [Flour, Butter, Cheese, Herbs, Baking Powder, ...   3.25     4.3   \n",
       "2                [Espresso, Steamed Milk, Milk Foam]   4.75     4.8   \n",
       "3  [Flour, Sugar, Chocolate Chips, Eggs, Almonds,...   2.50     4.6   \n",
       "4                                         [Espresso]   2.00     4.9   \n",
       "\n",
       "               image_path  \n",
       "0          cappuccino.jpg  \n",
       "1        savory_scone.jpg  \n",
       "2               latte.jpg  \n",
       "3  chocolate_biscotti.jpg  \n",
       "4       espresso_shot.jpg  "
      ]
     },
     "execution_count": 15,
     "metadata": {},
     "output_type": "execute_result"
    }
   ],
   "source": [
    "df = pd.read_json('products/products.jsonl', lines=True)\n",
    "df.head()"
   ]
  },
  {
   "cell_type": "code",
   "execution_count": 16,
   "metadata": {},
   "outputs": [],
   "source": [
    "df['text'] = df['name'] + \" : \" + df[\"description\"] +\\\n",
    "            \" -- Ingredient: \" + df['ingredients'].astype(str) +\\\n",
    "            \" -- Price: \" + df['price'].astype(str) +\\\n",
    "            \" -- Rating: \" + df['rating'].astype(str)"
   ]
  },
  {
   "cell_type": "code",
   "execution_count": 18,
   "metadata": {},
   "outputs": [],
   "source": [
    "texts = df['text'].to_list()"
   ]
  },
  {
   "cell_type": "code",
   "execution_count": null,
   "metadata": {},
   "outputs": [
    {
     "data": {
      "text/plain": [
       "[\"Cappuccino : A rich and creamy cappuccino made with freshly brewed espresso, steamed milk, and a frothy milk cap. This delightful drink offers a perfect balance of bold coffee flavor and smooth milk, making it an ideal companion for relaxing mornings or lively conversations. -- Ingredient: ['Espresso', 'Steamed Milk', 'Milk Foam'] -- Price: 4.5 -- Rating: 4.7\",\n",
       " \"Jumbo Savory Scone : Deliciously flaky and buttery, this jumbo savory scone is filled with herbs and cheese, creating a mouthwatering experience. Perfect for a hearty snack or a light lunch, it pairs beautifully with your favorite coffee or tea. -- Ingredient: ['Flour', 'Butter', 'Cheese', 'Herbs', 'Baking Powder', 'Salt'] -- Price: 3.25 -- Rating: 4.3\",\n",
       " \"Latte : Smooth and creamy, our latte combines rich espresso with velvety steamed milk, creating a perfect balance of flavor and texture. Enjoy it as a comforting treat any time of day, whether you're starting your morning or taking a midday break. -- Ingredient: ['Espresso', 'Steamed Milk', 'Milk Foam'] -- Price: 4.75 -- Rating: 4.8\",\n",
       " \"Chocolate Chip Biscotti : Crunchy and delightful, this chocolate chip biscotti is perfect for dipping in your coffee or enjoying on its own. Each bite offers a satisfying crunch and a burst of rich chocolate, making it a favorite for any biscotti lover. -- Ingredient: ['Flour', 'Sugar', 'Chocolate Chips', 'Eggs', 'Almonds', 'Baking Powder'] -- Price: 2.5 -- Rating: 4.6\",\n",
       " \"Espresso shot : A bold shot of rich espresso, our espresso is crafted from the finest beans to deliver a robust flavor in every sip. Perfect for a quick pick-me-up, it can also serve as a base for your favorite coffee drinks. -- Ingredient: ['Espresso'] -- Price: 2.0 -- Rating: 4.9\",\n",
       " \"Hazelnut Biscotti : These delicious hazelnut biscotti are perfect for a crunchy treat alongside your coffee. Infused with roasted hazelnuts, they provide a delightful nutty flavor that enhances your coffee experience. -- Ingredient: ['Flour', 'Sugar', 'Hazelnuts', 'Eggs', 'Baking Powder'] -- Price: 2.75 -- Rating: 4.4\",\n",
       " \"Chocolate Croissant : Flaky and buttery, our chocolate croissant is filled with rich chocolate, making it a delightful pastry for any time. Perfect for breakfast or an afternoon snack, it's a sweet indulgence that never disappoints. -- Ingredient: ['Flour', 'Butter', 'Chocolate', 'Yeast', 'Sugar', 'Salt'] -- Price: 3.75 -- Rating: 4.8\",\n",
       " \"Dark chocolate : Rich and indulgent, our dark chocolate drinking chocolate is made with premium cocoa. This luxurious beverage is perfect for a cozy treat on a chilly day, bringing warmth and comfort with every sip. -- Ingredient: ['Cocoa Powder', 'Sugar', 'Milk'] -- Price: 5.0 -- Rating: 4.7\",\n",
       " \"Cranberry Scone : This delightful cranberry scone combines sweet and tart flavors, making it perfect for a breakfast treat or afternoon snack. Soft and crumbly, it pairs wonderfully with tea or coffee for a comforting experience. -- Ingredient: ['Flour', 'Butter', 'Cranberries', 'Sugar', 'Baking Powder', 'Eggs'] -- Price: 3.5 -- Rating: 4.5\",\n",
       " \"Croissant : Our classic croissant is flaky and buttery, offering a delightful crunch with each bite. Whether enjoyed alone or filled with your favorite spread, it's a timeless pastry that elevates any meal. -- Ingredient: ['Flour', 'Butter', 'Yeast', 'Sugar', 'Salt'] -- Price: 3.25 -- Rating: 4.7\",\n",
       " \"Almond Croissant : A delightful twist on the classic croissant, filled with almond cream and topped with slivered almonds for added crunch. This indulgent treat is perfect for those who love a sweet and nutty flavor combination. -- Ingredient: ['Flour', 'Butter', 'Almond Cream', 'Sugar', 'Almonds', 'Yeast'] -- Price: 4.0 -- Rating: 4.8\",\n",
       " \"Ginger Biscotti : These spicy ginger biscotti are perfect for dipping and provide a delightful crunch with every bite. The warm flavor of ginger adds a unique twist that pairs beautifully with your favorite hot beverage. -- Ingredient: ['Flour', 'Sugar', 'Ginger', 'Eggs', 'Baking Powder'] -- Price: 2.5 -- Rating: 4.7\",\n",
       " \"Oatmeal Scone : Nutty and wholesome, our oatmeal scone is a perfect snack for any time. Made with rolled oats and a hint of sweetness, it's a satisfying option for those who enjoy hearty baked goods. -- Ingredient: ['Flour', 'Oats', 'Butter', 'Sugar', 'Baking Powder', 'Eggs'] -- Price: 3.25 -- Rating: 4.3\",\n",
       " \"Ginger Scone : Soft and fragrant, our ginger scone is perfect for a morning treat, infused with the warm spice of ginger. It's an inviting option that pairs beautifully with a cup of tea or coffee. -- Ingredient: ['Flour', 'Butter', 'Ginger', 'Sugar', 'Baking Powder', 'Eggs'] -- Price: 3.5 -- Rating: 4.5\",\n",
       " \"Chocolate syrup : Our rich chocolate syrup is perfect for drizzling over desserts or adding to your favorite beverages. Its velvety texture and intense chocolate flavor make it an essential topping for any sweet creation. -- Ingredient: ['Sugar', 'Cocoa Powder', 'Water', 'Vanilla Extract'] -- Price: 1.5 -- Rating: 4.8\",\n",
       " \"Hazelnut syrup : Add a nutty flavor to your drinks with our hazelnut syrup, perfect for lattes and desserts. Its smooth sweetness enhances a variety of beverages, making it a must-have for coffee lovers. -- Ingredient: ['Sugar', 'Water', 'Hazelnut Extract', 'Vanilla Extract'] -- Price: 1.5 -- Rating: 4.7\",\n",
       " \"Carmel syrup : Sweet and creamy, our caramel syrup is ideal for topping your drinks and desserts with a rich caramel flavor. This versatile syrup elevates everything from coffee to ice cream, providing a luscious touch. -- Ingredient: ['Sugar', 'Water', 'Cream', 'Butter', 'Vanilla Extract'] -- Price: 1.5 -- Rating: 4.9\",\n",
       " \"Sugar Free Vanilla syrup : Enjoy the sweet flavor of vanilla without the sugar, making it perfect for your coffee or dessert. This syrup offers a guilt-free way to enhance your beverages, ensuring you never miss out on flavor. -- Ingredient: ['Water', 'Natural Flavors', 'Sucralose'] -- Price: 1.5 -- Rating: 4.4\"]"
      ]
     },
     "execution_count": 19,
     "metadata": {},
     "output_type": "execute_result"
    }
   ],
   "source": []
  },
  {
   "cell_type": "code",
   "execution_count": 20,
   "metadata": {},
   "outputs": [],
   "source": [
    "with open('products/about_us.txt') as f:\n",
    "    aboutUs_section = f.read()\n",
    "aboutUs_section = \"Seaside Sips' About Us Section: \" + aboutUs_section\n",
    "texts.append(aboutUs_section)"
   ]
  },
  {
   "cell_type": "code",
   "execution_count": 21,
   "metadata": {},
   "outputs": [],
   "source": [
    "with open('products/menu_items_text.txt') as f:\n",
    "    menu_items_text = f.read()\n",
    "menu_items_text = \"Menu items: \" + menu_items_text\n",
    "texts.append(menu_items_text)"
   ]
  },
  {
   "cell_type": "markdown",
   "metadata": {},
   "source": [
    "# Generate Embeddings"
   ]
  },
  {
   "cell_type": "code",
   "execution_count": 23,
   "metadata": {},
   "outputs": [],
   "source": [
    "output = client.embeddings.create(input=texts, model=model_name)\n",
    "embeddings = output.data"
   ]
  },
  {
   "cell_type": "markdown",
   "metadata": {},
   "source": [
    "# Push Data to Database"
   ]
  },
  {
   "cell_type": "code",
   "execution_count": 25,
   "metadata": {},
   "outputs": [
    {
     "data": {
      "text/plain": [
       "{\n",
       "    \"name\": \"seasidesip-coffeeshop\",\n",
       "    \"metric\": \"cosine\",\n",
       "    \"host\": \"seasidesip-coffeeshop-brjs6ay.svc.aped-4627-b74a.pinecone.io\",\n",
       "    \"spec\": {\n",
       "        \"serverless\": {\n",
       "            \"cloud\": \"aws\",\n",
       "            \"region\": \"us-east-1\"\n",
       "        }\n",
       "    },\n",
       "    \"status\": {\n",
       "        \"ready\": true,\n",
       "        \"state\": \"Ready\"\n",
       "    },\n",
       "    \"vector_type\": \"dense\",\n",
       "    \"dimension\": 384,\n",
       "    \"deletion_protection\": \"disabled\",\n",
       "    \"tags\": null\n",
       "}"
      ]
     },
     "execution_count": 25,
     "metadata": {},
     "output_type": "execute_result"
    }
   ],
   "source": [
    "pc.create_index(\n",
    "    name=index_name,\n",
    "    dimension=384,\n",
    "    metric='cosine',\n",
    "    spec=ServerlessSpec (\n",
    "        cloud='aws',\n",
    "        region='us-east-1'\n",
    "    )\n",
    ")"
   ]
  },
  {
   "cell_type": "code",
   "execution_count": 33,
   "metadata": {},
   "outputs": [
    {
     "data": {
      "text/plain": [
       "{'upserted_count': 20}"
      ]
     },
     "execution_count": 33,
     "metadata": {},
     "output_type": "execute_result"
    }
   ],
   "source": [
    "# wait for index to be ready\n",
    "while not pc.describe_index(index_name).status.ready:\n",
    "    time.sleep(1)\n",
    "index = pc.Index(index_name)\n",
    "\n",
    "vectors = []\n",
    "for text, e in zip(texts, embeddings):\n",
    "    entry_id = text.split(\":\")[0]\n",
    "    vectors.append({\n",
    "        \"id\": entry_id,\n",
    "        \"values\": e.embedding,\n",
    "        \"metadata\": {\"text\": text}\n",
    "    })\n",
    "index.upsert(vectors=vectors, namespace='ns1')"
   ]
  },
  {
   "cell_type": "markdown",
   "metadata": {},
   "source": [
    "# Get Closest Documents"
   ]
  },
  {
   "cell_type": "code",
   "execution_count": 34,
   "metadata": {},
   "outputs": [],
   "source": [
    "output = client.embeddings.create(input=['Is Cappuccino lactose-free?'], model=model_name)\n",
    "embedding = output.data[0].embedding"
   ]
  },
  {
   "cell_type": "code",
   "execution_count": 35,
   "metadata": {},
   "outputs": [],
   "source": [
    "results = index.query(\n",
    "    namespace='ns1',\n",
    "    vector=embedding,\n",
    "    top_k=3,\n",
    "    include_values=False,\n",
    "    include_metadata=True\n",
    ")"
   ]
  },
  {
   "cell_type": "code",
   "execution_count": 36,
   "metadata": {},
   "outputs": [
    {
     "data": {
      "text/plain": [
       "{'matches': [{'id': 'Cappuccino ',\n",
       "              'metadata': {'text': 'Cappuccino : A rich and creamy cappuccino '\n",
       "                                   'made with freshly brewed espresso, steamed '\n",
       "                                   'milk, and a frothy milk cap. This '\n",
       "                                   'delightful drink offers a perfect balance '\n",
       "                                   'of bold coffee flavor and smooth milk, '\n",
       "                                   'making it an ideal companion for relaxing '\n",
       "                                   'mornings or lively conversations. -- '\n",
       "                                   \"Ingredient: ['Espresso', 'Steamed Milk', \"\n",
       "                                   \"'Milk Foam'] -- Price: 4.5 -- Rating: 4.7\"},\n",
       "              'score': 0.735915959,\n",
       "              'values': []},\n",
       "             {'id': 'Sugar Free Vanilla syrup ',\n",
       "              'metadata': {'text': 'Sugar Free Vanilla syrup : Enjoy the sweet '\n",
       "                                   'flavor of vanilla without the sugar, '\n",
       "                                   'making it perfect for your coffee or '\n",
       "                                   'dessert. This syrup offers a guilt-free '\n",
       "                                   'way to enhance your beverages, ensuring '\n",
       "                                   'you never miss out on flavor. -- '\n",
       "                                   \"Ingredient: ['Water', 'Natural Flavors', \"\n",
       "                                   \"'Sucralose'] -- Price: 1.5 -- Rating: 4.4\"},\n",
       "              'score': 0.626714647,\n",
       "              'values': []},\n",
       "             {'id': 'Menu items',\n",
       "              'metadata': {'text': 'Menu items: Menu Items\\n'\n",
       "                                   '\\n'\n",
       "                                   'Cappuccino - $4.50\\n'\n",
       "                                   'Jumbo Savory Scone - $3.25\\n'\n",
       "                                   'Latte - $4.75\\n'\n",
       "                                   'Chocolate Chip Biscotti - $2.50\\n'\n",
       "                                   'Espresso shot - $2.00\\n'\n",
       "                                   'Hazelnut Biscotti - $2.75\\n'\n",
       "                                   'Chocolate Croissant - $3.75\\n'\n",
       "                                   'Dark chocolate (Drinking Chocolate) - '\n",
       "                                   '$5.00\\n'\n",
       "                                   'Cranberry Scone - $3.50\\n'\n",
       "                                   'Croissant - $3.25\\n'\n",
       "                                   'Almond Croissant - $4.00\\n'\n",
       "                                   'Ginger Biscotti - $2.50\\n'\n",
       "                                   'Oatmeal Scone - $3.25\\n'\n",
       "                                   'Ginger Scone - $3.50\\n'\n",
       "                                   'Chocolate syrup - $1.50\\n'\n",
       "                                   'Hazelnut syrup - $1.50\\n'\n",
       "                                   'Carmel syrup - $1.50\\n'\n",
       "                                   'Sugar Free Vanilla syrup - $1.50\\n'\n",
       "                                   'Dark chocolate (Packaged Chocolate) - '\n",
       "                                   '$3.00'},\n",
       "              'score': 0.613615,\n",
       "              'values': []}],\n",
       " 'namespace': 'ns1',\n",
       " 'usage': {'read_units': 1}}"
      ]
     },
     "execution_count": 36,
     "metadata": {},
     "output_type": "execute_result"
    }
   ],
   "source": [
    "results"
   ]
  }
 ],
 "metadata": {
  "kernelspec": {
   "display_name": "base",
   "language": "python",
   "name": "python3"
  },
  "language_info": {
   "codemirror_mode": {
    "name": "ipython",
    "version": 3
   },
   "file_extension": ".py",
   "mimetype": "text/x-python",
   "name": "python",
   "nbconvert_exporter": "python",
   "pygments_lexer": "ipython3",
   "version": "3.12.2"
  }
 },
 "nbformat": 4,
 "nbformat_minor": 5
}
